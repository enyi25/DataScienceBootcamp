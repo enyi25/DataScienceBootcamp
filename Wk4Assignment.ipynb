{
 "cells": [
  {
   "cell_type": "code",
   "execution_count": null,
   "metadata": {},
   "outputs": [],
   "source": [
    "import pandas as pd\n",
    "import matplotlib.pyplot as plt\n",
    "\n",
    "# Load the dataset\n",
    "file_path = \"M1_final.csv\"\n",
    "\n",
    "df = pd.read_csv(r\"C:\\Dev\\GIT\\DataScience_Bootcamp\\Week4\\M1_final.csv\")\n",
    "\n",
    "# Display basic information about the dataset\n",
    "df.info(), df.head()\n"
   ]
  },
  {
   "cell_type": "code",
   "execution_count": 10,
   "metadata": {},
   "outputs": [
    {
     "data": {
      "text/plain": [
       "Series([], dtype: int64)"
      ]
     },
     "execution_count": 10,
     "metadata": {},
     "output_type": "execute_result"
    }
   ],
   "source": [
    "# Check for missing values\n",
    "missing_values = df.isnull().sum()\n",
    "missing_values[missing_values > 0]\n"
   ]
  },
  {
   "cell_type": "markdown",
   "metadata": {},
   "source": [
    "The Wind column has 2 missing values, due to the dataset's size, the two missing values in the Wind column are considered insignificant.\n",
    "I will fill these with the most frequent values in this case (the mode)"
   ]
  },
  {
   "cell_type": "code",
   "execution_count": 11,
   "metadata": {},
   "outputs": [
    {
     "data": {
      "text/plain": [
       "0"
      ]
     },
     "execution_count": 11,
     "metadata": {},
     "output_type": "execute_result"
    }
   ],
   "source": [
    "# Fill missing values in 'Wind' with the most frequent value (mode)\n",
    "df['Wind'].fillna(df['Wind'].mode()[0], inplace=True)\n",
    "\n",
    "# Verify if missing values are handled\n",
    "df.isnull().sum().sum()  # Should be 0 if all missing values are addressed\n"
   ]
  },
  {
   "cell_type": "markdown",
   "metadata": {},
   "source": [
    "Check for data inconsistencies, convert categorical variables where needed, and analyze correlations"
   ]
  },
  {
   "cell_type": "code",
   "execution_count": null,
   "metadata": {},
   "outputs": [],
   "source": [
    "# Convert relevant categorical columns to appropriate types\n",
    "df['Dew Point'] = pd.to_numeric(df['Dew Point'], errors='coerce')  # Convert to numeric\n",
    "df['Wind Speed'] = pd.to_numeric(df['Wind Speed'], errors='coerce')  # Convert to numeric\n",
    "df['Wind Gust'] = pd.to_numeric(df['Wind Gust'], errors='coerce')  # Convert to numeric\n",
    "\n",
    "# Check for inconsistencies after conversion\n",
    "df.info()\n"
   ]
  },
  {
   "cell_type": "code",
   "execution_count": null,
   "metadata": {},
   "outputs": [],
   "source": [
    "#check for missing values after conversion\n",
    "df.isnull().sum()"
   ]
  },
  {
   "cell_type": "markdown",
   "metadata": {},
   "source": [
    "This showed that Dew Point had 1,725 missing values. Fill missing value with median of column\n"
   ]
  },
  {
   "cell_type": "code",
   "execution_count": 17,
   "metadata": {},
   "outputs": [
    {
     "name": "stderr",
     "output_type": "stream",
     "text": [
      "C:\\Users\\enyi2\\AppData\\Local\\Temp\\ipykernel_76980\\4078287453.py:1: FutureWarning: A value is trying to be set on a copy of a DataFrame or Series through chained assignment using an inplace method.\n",
      "The behavior will change in pandas 3.0. This inplace method will never work because the intermediate object on which we are setting values always behaves as a copy.\n",
      "\n",
      "For example, when doing 'df[col].method(value, inplace=True)', try using 'df.method({col: value}, inplace=True)' or df[col] = df[col].method(value) instead, to perform the operation inplace on the original object.\n",
      "\n",
      "\n",
      "  df['Dew Point'].fillna(df['Dew Point'].median(), inplace=True)\n"
     ]
    }
   ],
   "source": [
    "df['Dew Point'].fillna(df['Dew Point'].median(), inplace=True)"
   ]
  },
  {
   "cell_type": "code",
   "execution_count": null,
   "metadata": {},
   "outputs": [],
   "source": [
    "# 1. Summary statistics of numerical features\n",
    "num_summary = df.describe()\n",
    "\n",
    "# 2. Distribution of the target variable (TAXI_OUT)\n",
    "plt.figure(figsize=(8, 5))\n",
    "sns.histplot(df['TAXI_OUT'], bins=30, kde=True, color='blue')\n",
    "plt.title(\"Distribution of TAXI_OUT\")\n",
    "plt.xlabel(\"Taxi-Out Time (minutes)\")\n",
    "plt.ylabel(\"Frequency\")\n",
    "plt.show()\n",
    "\n",
    "# 3. Box plots of Taxi-Out time by Day of Week\n",
    "plt.figure(figsize=(8, 5))\n",
    "sns.boxplot(x=df['DAY_OF_WEEK'], y=df['TAXI_OUT'], palette=\"coolwarm\")\n",
    "plt.title(\"Taxi-Out Time by Day of the Week\")\n",
    "plt.xlabel(\"Day of Week (1=Monday, 7=Sunday)\")\n",
    "plt.ylabel(\"Taxi-Out Time (minutes)\")\n",
    "plt.show()\n",
    "\n",
    "# 4. Scatter plot of Departure Delay vs. Taxi-Out Time\n",
    "plt.figure(figsize=(8, 5))\n",
    "sns.scatterplot(x=df['DEP_DELAY'], y=df['TAXI_OUT'], alpha=0.5, color='red')\n",
    "plt.title(\"Departure Delay vs. Taxi-Out Time\")\n",
    "plt.xlabel(\"Departure Delay (minutes)\")\n",
    "plt.ylabel(\"Taxi-Out Time (minutes)\")\n",
    "plt.show()\n",
    "\n",
    "# 5. Boxplot of Taxi-Out Time by Month\n",
    "plt.figure(figsize=(10, 6))\n",
    "sns.boxplot(x=df['MONTH'], y=df['TAXI_OUT'], palette=\"viridis\")\n",
    "plt.title(\"Taxi-Out Time by Month\")\n",
    "plt.xlabel(\"Month\")\n",
    "plt.ylabel(\"Taxi-Out Time (minutes)\")\n",
    "plt.show()\n",
    "\n",
    "# Display summary statistics\n",
    "import ace_tools as tools\n",
    "tools.display_dataframe_to_user(name=\"Summary Statistics\", dataframe=num_summary)\n"
   ]
  },
  {
   "cell_type": "code",
   "execution_count": null,
   "metadata": {},
   "outputs": [],
   "source": [
    "import matplotlib.pyplot as plt\n",
    "import seaborn as sns\n",
    "\n",
    "# Select only numeric columns\n",
    "numeric_df = df.select_dtypes(include=['float64', 'int64'])\n",
    "\n",
    "# Compute the correlation matrix\n",
    "corr_matrix = numeric_df.corr()\n",
    "\n",
    "# Plot the heatmap\n",
    "plt.figure(figsize=(12, 8))\n",
    "sns.heatmap(corr_matrix, annot=True, fmt=\".2f\", cmap=\"coolwarm\", linewidths=0.5)\n",
    "plt.title(\"Correlation Matrix of Numerical Features\")\n",
    "plt.show()\n"
   ]
  },
  {
   "cell_type": "code",
   "execution_count": 20,
   "metadata": {},
   "outputs": [
    {
     "name": "stdout",
     "output_type": "stream",
     "text": [
      "<class 'pandas.core.frame.DataFrame'>\n",
      "RangeIndex: 28820 entries, 0 to 28819\n",
      "Columns: 114 entries, MONTH to Condition_Wintry Mix / Windy\n",
      "dtypes: bool(96), float64(2), int64(16)\n",
      "memory usage: 6.6 MB\n"
     ]
    }
   ],
   "source": [
    "# Encode categorical variables using one-hot encoding for relevant features\n",
    "df_encoded = pd.get_dummies(df, columns=['OP_UNIQUE_CARRIER', 'DEST', 'Condition'], drop_first=True)\n",
    "\n",
    "# Drop non-essential columns that do not contribute to prediction\n",
    "df_encoded.drop(columns=['TAIL_NUM', 'Wind'], inplace=True)\n",
    "\n",
    "# Display the updated dataset structure\n",
    "df_encoded.info()\n"
   ]
  },
  {
   "cell_type": "code",
   "execution_count": 21,
   "metadata": {},
   "outputs": [
    {
     "data": {
      "text/plain": [
       "(5.085751902053599, 6.388169166486702, 0.13421742880847676)"
      ]
     },
     "execution_count": 21,
     "metadata": {},
     "output_type": "execute_result"
    }
   ],
   "source": [
    "from sklearn.model_selection import train_test_split\n",
    "from sklearn.linear_model import LinearRegression\n",
    "from sklearn.metrics import mean_absolute_error, mean_squared_error, r2_score\n",
    "\n",
    "# Define features and target variable\n",
    "X = df_encoded.drop(columns=['TAXI_OUT'])\n",
    "y = df_encoded['TAXI_OUT']\n",
    "\n",
    "# Split into training and test sets (80% train, 20% test)\n",
    "X_train, X_test, y_train, y_test = train_test_split(X, y, test_size=0.2, random_state=42)\n",
    "\n",
    "# Train a Linear Regression model\n",
    "model = LinearRegression()\n",
    "model.fit(X_train, y_train)\n",
    "\n",
    "# Make predictions\n",
    "y_pred = model.predict(X_test)\n",
    "\n",
    "# Evaluate model performance\n",
    "mae = mean_absolute_error(y_test, y_pred)\n",
    "mse = mean_squared_error(y_test, y_pred)\n",
    "rmse = mse ** 0.5\n",
    "r2 = r2_score(y_test, y_pred)\n",
    "\n",
    "mae, rmse, r2\n"
   ]
  }
 ],
 "metadata": {
  "kernelspec": {
   "display_name": "Python [conda env:base] *",
   "language": "python",
   "name": "conda-base-py"
  },
  "language_info": {
   "codemirror_mode": {
    "name": "ipython",
    "version": 3
   },
   "file_extension": ".py",
   "mimetype": "text/x-python",
   "name": "python",
   "nbconvert_exporter": "python",
   "pygments_lexer": "ipython3",
   "version": "3.12.7"
  }
 },
 "nbformat": 4,
 "nbformat_minor": 2
}
